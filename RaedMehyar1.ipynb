{
  "nbformat": 4,
  "nbformat_minor": 0,
  "metadata": {
    "colab": {
      "name": "RaedMehyar1.ipynb",
      "provenance": [],
      "collapsed_sections": [],
      "toc_visible": true,
      "include_colab_link": true
    },
    "kernelspec": {
      "name": "python3",
      "display_name": "Python 3"
    }
  },
  "cells": [
    {
      "cell_type": "markdown",
      "metadata": {
        "id": "view-in-github",
        "colab_type": "text"
      },
      "source": [
        "<a href=\"https://colab.research.google.com/github/raedmehyar/18110026-BusinessIntelligence/blob/master/RaedMehyar1.ipynb\" target=\"_parent\"><img src=\"https://colab.research.google.com/assets/colab-badge.svg\" alt=\"Open In Colab\"/></a>"
      ]
    },
    {
      "cell_type": "code",
      "metadata": {
        "id": "35d6iR1d7kqP",
        "colab_type": "code",
        "outputId": "b5f109f3-0bce-47e5-c2e5-989a756a2aa9",
        "colab": {
          "base_uri": "https://localhost:8080/",
          "height": 51
        }
      },
      "source": [
        "import pandas as pd\n",
        "import matplotlib.pyplot as plt\n",
        "df = pd.read_csv('train.csv')\n",
        "print(df['SalePrice'].mean())\n",
        "print(df['SalePrice'].median())\n",
        "df.groupby(by=['SaleCondition'])['SalePrice'].mean()\n",
        "df.groupby(by=['SaleCondition'])['SalePrice'].median()\n",
        "grouped_df = df.groupby(by=['Neighborhood']).mean()\n",
        "grouped_df = df.groupby(by=['Neighborhood'], as_index=False).mean()"
      ],
      "execution_count": 1,
      "outputs": [
        {
          "output_type": "stream",
          "text": [
            "180921.19589041095\n",
            "163000.0\n"
          ],
          "name": "stdout"
        }
      ]
    },
    {
      "cell_type": "code",
      "metadata": {
        "id": "Qr-2ne-KNsT4",
        "colab_type": "code",
        "outputId": "5d76b19d-aff4-4959-9b5e-1ff6187cb7aa",
        "colab": {
          "base_uri": "https://localhost:8080/",
          "height": 265
        }
      },
      "source": [
        "grouped_df = grouped_df.sample(6)\n",
        "xs = grouped_df['Neighborhood']\n",
        "ys = grouped_df['SalePrice']\n",
        "plt.bar(xs, ys)\n",
        "plt.show()"
      ],
      "execution_count": 2,
      "outputs": [
        {
          "output_type": "display_data",
          "data": {
            "image/png": "[encoded data removed]",
            "text/plain": [
              "<Figure size 432x288 with 1 Axes>"
            ]
          },
          "metadata": {
            "tags": []
          }
        }
      ]
    }
  ]
}