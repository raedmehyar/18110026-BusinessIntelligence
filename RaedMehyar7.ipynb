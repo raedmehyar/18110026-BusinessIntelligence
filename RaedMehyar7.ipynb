{
  "nbformat": 4,
  "nbformat_minor": 0,
  "metadata": {
    "colab": {
      "name": "RaedMehyar7.ipynb",
      "provenance": [],
      "collapsed_sections": [],
      "authorship_tag": "ABX9TyO90T33Wfwwz7MkKjZBc339"
    },
    "kernelspec": {
      "name": "python3",
      "display_name": "Python 3"
    }
  },
  "cells": [
    {
      "cell_type": "code",
      "metadata": {
        "id": "Wam2AQGnz3GF",
        "colab_type": "code",
        "outputId": "4b1e4858-f0fc-4f59-c31d-eef34e5f6ed1",
        "colab": {
          "base_uri": "https://localhost:8080/",
          "height": 272
        }
      },
      "source": [
        "import pandas as pd\n",
        "from sklearn.linear_model import LogisticRegression\n",
        "from sklearn.metrics import accuracy_score\n",
        "\n",
        "df =pd.read_csv('pvt.csv', sep='\\t')\n",
        "print(df.head(5))\n",
        "print('--------')\n",
        "print(df['PovPct'].median())\n",
        "\n",
        "def is_poor(x):\n",
        "  if x >= 12.2:\n",
        "    return 1\n",
        "  return 0\n",
        "df['is_pov'] = df['PovPct'].apply(is_poor)\n",
        "\n",
        "#or\n",
        "#df['is_pov'] = df['PovPct'].apply(lamda x: 1 if x>=12.2 else 0)\n",
        "\n",
        "x = df[['ViolCrime']]\n",
        "y = df['is_pov']\n",
        "\n",
        "lr = LogisticRegression()\n",
        "lr.fit(x,y)\n",
        "predictions = lr.predict(x)\n",
        "\n",
        "print('accuracy is:', accuracy_score(predictions, y))\n",
        "\n",
        "print(df.head(5))"
      ],
      "execution_count": 0,
      "outputs": [
        {
          "output_type": "stream",
          "text": [
            "     Location  PovPct  Brth15to17  Brth18to19  ViolCrime  TeenBrth\n",
            "0     Alabama    20.1        31.5        88.7       11.2      54.5\n",
            "1      Alaska     7.1        18.9        73.7        9.1      39.5\n",
            "2     Arizona    16.1        35.0       102.5       10.4      61.2\n",
            "3    Arkansas    14.9        31.6       101.7       10.4      59.9\n",
            "4  California    16.7        22.6        69.1       11.2      41.1\n",
            "--------\n",
            "12.2\n",
            "accuracy is: 0.7058823529411765\n",
            "     Location  PovPct  Brth15to17  Brth18to19  ViolCrime  TeenBrth  is_pov\n",
            "0     Alabama    20.1        31.5        88.7       11.2      54.5       1\n",
            "1      Alaska     7.1        18.9        73.7        9.1      39.5       0\n",
            "2     Arizona    16.1        35.0       102.5       10.4      61.2       1\n",
            "3    Arkansas    14.9        31.6       101.7       10.4      59.9       1\n",
            "4  California    16.7        22.6        69.1       11.2      41.1       1\n"
          ],
          "name": "stdout"
        }
      ]
    },
    {
      "cell_type": "code",
      "metadata": {
        "id": "cH5WXRkV7cuS",
        "colab_type": "code",
        "outputId": "f598082d-159b-44f1-fcff-232f3606ec70",
        "colab": {
          "base_uri": "https://localhost:8080/",
          "height": 255
        }
      },
      "source": [
        "df =pd.read_csv('diabetes.csv')\n",
        "print(df)\n"
      ],
      "execution_count": 0,
      "outputs": [
        {
          "output_type": "stream",
          "text": [
            "     children  glocus_concentration  ...  age  has_diabetes\n",
            "0           6                   148  ...   50             1\n",
            "1           1                    85  ...   31             0\n",
            "2           8                   183  ...   32             1\n",
            "3           1                    89  ...   21             0\n",
            "4           0                   137  ...   33             1\n",
            "..        ...                   ...  ...  ...           ...\n",
            "763        10                   101  ...   63             0\n",
            "764         2                   122  ...   27             0\n",
            "765         5                   121  ...   30             0\n",
            "766         1                   126  ...   47             1\n",
            "767         1                    93  ...   23             0\n",
            "\n",
            "[768 rows x 9 columns]\n"
          ],
          "name": "stdout"
        }
      ]
    }
  ]
}