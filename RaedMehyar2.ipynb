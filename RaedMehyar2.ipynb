{
  "nbformat": 4,
  "nbformat_minor": 0,
  "metadata": {
    "colab": {
      "name": "RaedMehyar2.ipynb",
      "provenance": [],
      "collapsed_sections": [],
      "toc_visible": true
    },
    "kernelspec": {
      "name": "python3",
      "display_name": "Python 3"
    }
  },
  "cells": [
    {
      "cell_type": "code",
      "metadata": {
        "id": "9Al2j-ZVy3lC",
        "colab_type": "code",
        "colab": {}
      },
      "source": [
        "import matplotlib.pyplot as plt\n",
        "from matplotlib.pyplot import figure\n",
        "import numpy as np\n",
        "import pandas as pd"
      ],
      "execution_count": 0,
      "outputs": []
    },
    {
      "cell_type": "code",
      "metadata": {
        "id": "lv812zZY6dXa",
        "colab_type": "code",
        "colab": {}
      },
      "source": [
        "df = pd.read_csv('covid_19_data.csv')\n",
        "countries = df.groupby(by=['Country/Region'], as_index=False).sum()\n",
        "countries ['Active'] = countries['Confirmed'] - countries['Deaths'] - countries['Recovered']"
      ],
      "execution_count": 0,
      "outputs": []
    },
    {
      "cell_type": "code",
      "metadata": {
        "id": "0a1EFWys8aZg",
        "colab_type": "code",
        "outputId": "12030b6d-03fe-43cc-f9d6-f1b4b952dcf8",
        "colab": {
          "base_uri": "https://localhost:8080/",
          "height": 204
        }
      },
      "source": [
        "countries = countries.sort_values(by='Confirmed', ascending=False)\n",
        "countries = countries.head(10)\n",
        "print(countries.head(10))"
      ],
      "execution_count": 3,
      "outputs": [
        {
          "output_type": "stream",
          "text": [
            "     Country/Region       SNo  Confirmed    Deaths  Recovered     Active\n",
            "121  Mainland China   7151222  4094720.0  142338.0  2306825.0  1645557.0\n",
            "99            Italy    226787  1105297.0  104101.0   130395.0   870801.0\n",
            "200              US  11429999   899280.0   14330.0    12428.0   872522.0\n",
            "181           Spain    227664   646609.0   46099.0    84005.0   516505.0\n",
            "74          Germany    227852   516949.0    3101.0    52328.0   461520.0\n",
            "95             Iran    205857   482959.0   31473.0   158187.0   293299.0\n",
            "68           France   1344753   357338.0   17811.0    43533.0   295994.0\n",
            "180     South Korea    228980   247232.0    2520.0    49119.0   195593.0\n",
            "199              UK   1046645   140245.0    7329.0     1962.0   130954.0\n",
            "187     Switzerland    194894   138532.0    2133.0     7244.0   129155.0\n"
          ],
          "name": "stdout"
        }
      ]
    },
    {
      "cell_type": "code",
      "metadata": {
        "id": "MZ4Mnx-u9CT9",
        "colab_type": "code",
        "outputId": "66a30fb3-d711-4a0f-efd8-0a1a4159de55",
        "colab": {
          "base_uri": "https://localhost:8080/",
          "height": 34
        }
      },
      "source": [
        "country_names = countries['Country/Region']\n",
        "print(len(country_names))\n",
        "counts_confirmed = countries['Confirmed']\n",
        "counts_death = countries['Deaths']\n",
        "counts_recovered = countries['Recovered']\n",
        "active_cases = countries['Confirmed'] - countries['Deaths'] - countries['Recovered']\n"
      ],
      "execution_count": 4,
      "outputs": [
        {
          "output_type": "stream",
          "text": [
            "10\n"
          ],
          "name": "stdout"
        }
      ]
    },
    {
      "cell_type": "code",
      "metadata": {
        "id": "fw-hl8BN-Uzw",
        "colab_type": "code",
        "outputId": "619d4e4e-e771-425e-c5a4-5676659afeba",
        "colab": {
          "base_uri": "https://localhost:8080/",
          "height": 34
        }
      },
      "source": [
        "figure(num=None, figsize=(12,6), dpi= 80, facecolor='w', edgecolor='k')\n",
        "y_pos = np.arange(len(country_names)) * 3"
      ],
      "execution_count": 5,
      "outputs": [
        {
          "output_type": "display_data",
          "data": {
            "text/plain": [
              "<Figure size 960x480 with 0 Axes>"
            ]
          },
          "metadata": {
            "tags": []
          }
        }
      ]
    },
    {
      "cell_type": "code",
      "metadata": {
        "id": "PvMRYwcV_k42",
        "colab_type": "code",
        "outputId": "228a8fea-ef1d-4f23-b939-9d435963579a",
        "colab": {
          "base_uri": "https://localhost:8080/",
          "height": 298
        }
      },
      "source": [
        "plt.bar(y_pos+0.5, counts_confirmed , align='center', width=1)\n",
        "plt.xticks(y_pos, country_names)\n",
        "plt.ylabel('counts_confirmed')\n",
        "plt.title('Corona Status')"
      ],
      "execution_count": 6,
      "outputs": [
        {
          "output_type": "execute_result",
          "data": {
            "text/plain": [
              "Text(0.5, 1.0, 'Corona Status')"
            ]
          },
          "metadata": {
            "tags": []
          },
          "execution_count": 6
        },
        {
          "output_type": "display_data",
          "data": {
            "image/png": "[encoded data removed]",
            "text/plain": [
              "<Figure size 432x288 with 1 Axes>"
            ]
          },
          "metadata": {
            "tags": []
          }
        }
      ]
    },
    {
      "cell_type": "code",
      "metadata": {
        "colab_type": "code",
        "outputId": "db423217-b398-472e-cfd8-711c991c77a7",
        "id": "ZotQxglbgoAF",
        "colab": {
          "base_uri": "https://localhost:8080/",
          "height": 119
        }
      },
      "source": [
        "countries = countries.sort_values(by='Recovered', ascending=False)\n",
        "countries = countries.head(5)\n",
        "print(countries.head(5))"
      ],
      "execution_count": 7,
      "outputs": [
        {
          "output_type": "stream",
          "text": [
            "     Country/Region      SNo  Confirmed    Deaths  Recovered     Active\n",
            "121  Mainland China  7151222  4094720.0  142338.0  2306825.0  1645557.0\n",
            "95             Iran   205857   482959.0   31473.0   158187.0   293299.0\n",
            "99            Italy   226787  1105297.0  104101.0   130395.0   870801.0\n",
            "181           Spain   227664   646609.0   46099.0    84005.0   516505.0\n",
            "74          Germany   227852   516949.0    3101.0    52328.0   461520.0\n"
          ],
          "name": "stdout"
        }
      ]
    },
    {
      "cell_type": "code",
      "metadata": {
        "id": "a--4CR8Tgy7r",
        "colab_type": "code",
        "outputId": "2edc57d1-8c5e-4a1e-d0c7-556bffb7925f",
        "colab": {
          "base_uri": "https://localhost:8080/",
          "height": 119
        }
      },
      "source": [
        "countries = countries.sort_values(by='Recovered', ascending=True)\n",
        "countries = countries.head(5)\n",
        "print(countries.head(5))"
      ],
      "execution_count": 8,
      "outputs": [
        {
          "output_type": "stream",
          "text": [
            "     Country/Region      SNo  Confirmed    Deaths  Recovered     Active\n",
            "74          Germany   227852   516949.0    3101.0    52328.0   461520.0\n",
            "181           Spain   227664   646609.0   46099.0    84005.0   516505.0\n",
            "99            Italy   226787  1105297.0  104101.0   130395.0   870801.0\n",
            "95             Iran   205857   482959.0   31473.0   158187.0   293299.0\n",
            "121  Mainland China  7151222  4094720.0  142338.0  2306825.0  1645557.0\n"
          ],
          "name": "stdout"
        }
      ]
    },
    {
      "cell_type": "code",
      "metadata": {
        "id": "tYeI2_YAhQhs",
        "colab_type": "code",
        "outputId": "5e8277fc-68e3-46de-c408-9ebe55a21447",
        "colab": {
          "base_uri": "https://localhost:8080/",
          "height": 119
        }
      },
      "source": [
        "countries = countries.sort_values(by='Recovered', ascending=True)\n",
        "countries = countries.tail(5)\n",
        "print(countries.tail(5))"
      ],
      "execution_count": 9,
      "outputs": [
        {
          "output_type": "stream",
          "text": [
            "     Country/Region      SNo  Confirmed    Deaths  Recovered     Active\n",
            "74          Germany   227852   516949.0    3101.0    52328.0   461520.0\n",
            "181           Spain   227664   646609.0   46099.0    84005.0   516505.0\n",
            "99            Italy   226787  1105297.0  104101.0   130395.0   870801.0\n",
            "95             Iran   205857   482959.0   31473.0   158187.0   293299.0\n",
            "121  Mainland China  7151222  4094720.0  142338.0  2306825.0  1645557.0\n"
          ],
          "name": "stdout"
        }
      ]
    },
    {
      "cell_type": "code",
      "metadata": {
        "id": "JHSqACJxhj_6",
        "colab_type": "code",
        "outputId": "6b8d787c-929a-48dc-db57-bcf0184dc9ee",
        "colab": {
          "base_uri": "https://localhost:8080/",
          "height": 34
        }
      },
      "source": [
        "figure(num=None, figsize=(12,6), dpi= 80, facecolor='r', edgecolor='k')\n",
        "y_pos = np.arange(len(country_names)) * 3"
      ],
      "execution_count": 10,
      "outputs": [
        {
          "output_type": "display_data",
          "data": {
            "text/plain": [
              "<Figure size 960x480 with 0 Axes>"
            ]
          },
          "metadata": {
            "tags": []
          }
        }
      ]
    },
    {
      "cell_type": "code",
      "metadata": {
        "id": "kN3v-0BahzyL",
        "colab_type": "code",
        "outputId": "9fbb3d34-0ef6-46a7-bbaa-9a04fc485c70",
        "colab": {
          "base_uri": "https://localhost:8080/",
          "height": 298
        }
      },
      "source": [
        "\n",
        "plt.bar(y_pos+0.5, counts_recovered , align='center', width=1)\n",
        "plt.xticks(y_pos, country_names)\n",
        "plt.ylabel('counts_recovered')\n",
        "plt.title('Corona Healing')"
      ],
      "execution_count": 11,
      "outputs": [
        {
          "output_type": "execute_result",
          "data": {
            "text/plain": [
              "Text(0.5, 1.0, 'Corona Healing')"
            ]
          },
          "metadata": {
            "tags": []
          },
          "execution_count": 11
        },
        {
          "output_type": "display_data",
          "data": {
            "image/png": "[encoded data removed]",
            "text/plain": [
              "<Figure size 432x288 with 1 Axes>"
            ]
          },
          "metadata": {
            "tags": []
          }
        }
      ]
    }
  ]
}