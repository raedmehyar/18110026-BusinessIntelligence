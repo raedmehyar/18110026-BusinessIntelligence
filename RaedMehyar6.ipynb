{
  "nbformat": 4,
  "nbformat_minor": 0,
  "metadata": {
    "colab": {
      "name": "RaedMehyar6.ipynb",
      "provenance": [],
      "authorship_tag": "ABX9TyOAQ1hijqMUaXTu45igMyzD"
    },
    "kernelspec": {
      "name": "python3",
      "display_name": "Python 3"
    }
  },
  "cells": [
    {
      "cell_type": "code",
      "metadata": {
        "id": "AOEh2mcpB6xn",
        "colab_type": "code",
        "colab": {}
      },
      "source": [
        ""
      ],
      "execution_count": 0,
      "outputs": []
    }
  ]
}