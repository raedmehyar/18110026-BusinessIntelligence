{
  "nbformat": 4,
  "nbformat_minor": 0,
  "metadata": {
    "colab": {
      "name": "RaedMehyar10.ipynb",
      "provenance": [],
      "collapsed_sections": [],
      "authorship_tag": "ABX9TyPyepHsfYCpA5pnT8raBJlt",
      "include_colab_link": true
    },
    "kernelspec": {
      "name": "python3",
      "display_name": "Python 3"
    }
  },
  "cells": [
    {
      "cell_type": "markdown",
      "metadata": {
        "id": "view-in-github",
        "colab_type": "text"
      },
      "source": [
        "<a href=\"https://colab.research.google.com/github/raedmehyar/18110026-BusinessIntelligence/blob/master/RaedMehyar10.ipynb\" target=\"_parent\"><img src=\"https://colab.research.google.com/assets/colab-badge.svg\" alt=\"Open In Colab\"/></a>"
      ]
    },
    {
      "cell_type": "code",
      "metadata": {
        "id": "xAgDjNJHJ5B0",
        "colab_type": "code",
        "colab": {}
      },
      "source": [
        "#Required: Import\n",
        "import pandas as pd\n",
        "import matplotlib.pyplot as plt\n",
        "from matplotlib.pyplot import figure\n",
        "from sklearn.linear_model import LinearRegression\n",
        "from sklearn.model_selection import train_test_split\n",
        "from sklearn import metrics\n",
        "#Extra: Message\n",
        "def header (msg):\n",
        "  print ('-' * 50)\n",
        "  print ('' + msg + '\\n')"
      ],
      "execution_count": 0,
      "outputs": []
    },
    {
      "cell_type": "code",
      "metadata": {
        "id": "8T1qMvLPWNxt",
        "colab_type": "code",
        "colab": {}
      },
      "source": [
        "#Required: Load the Dataset\n",
        "df = pd.read_csv('data.csv', engine='python')"
      ],
      "execution_count": 0,
      "outputs": []
    },
    {
      "cell_type": "code",
      "metadata": {
        "id": "V7PJ3YNVkfUI",
        "colab_type": "code",
        "colab": {
          "base_uri": "https://localhost:8080/",
          "height": 510
        },
        "outputId": "257e5251-4edc-49ac-9f2c-56f11cfb4819"
      },
      "source": [
        "#Extra: Data Preprocessing\n",
        "header('How many rows do we have?')\n",
        "print (df.index)\n",
        "header('What colmuns  do we have?')\n",
        "print (df.columns)\n",
        "header('What type of data do we deal with?')\n",
        "print (df.dtypes)"
      ],
      "execution_count": 853,
      "outputs": [
        {
          "output_type": "stream",
          "text": [
            "--------------------------------------------------\n",
            "How many rows do we have?\n",
            "\n",
            "RangeIndex(start=0, stop=50, step=1)\n",
            "--------------------------------------------------\n",
            "What colmuns  do we have?\n",
            "\n",
            "Index(['Rank', 'Track.Name', 'Artist.Name', 'Genre', 'Beats.Per.Minute',\n",
            "       'Energy', 'Danceability', 'Loudness..dB..', 'Liveness', 'Valence.',\n",
            "       'Length.', 'Acousticness..', 'Speechiness.', 'Popularity'],\n",
            "      dtype='object')\n",
            "--------------------------------------------------\n",
            "What type of data do we deal with?\n",
            "\n",
            "Rank                 int64\n",
            "Track.Name          object\n",
            "Artist.Name         object\n",
            "Genre               object\n",
            "Beats.Per.Minute     int64\n",
            "Energy               int64\n",
            "Danceability         int64\n",
            "Loudness..dB..       int64\n",
            "Liveness             int64\n",
            "Valence.             int64\n",
            "Length.              int64\n",
            "Acousticness..       int64\n",
            "Speechiness.         int64\n",
            "Popularity           int64\n",
            "dtype: object\n"
          ],
          "name": "stdout"
        }
      ]
    },
    {
      "cell_type": "code",
      "metadata": {
        "id": "KcDlcjoNXjJN",
        "colab_type": "code",
        "colab": {
          "base_uri": "https://localhost:8080/",
          "height": 289
        },
        "outputId": "e517f790-03f3-4332-b30d-cd835e6995f5"
      },
      "source": [
        "#Required: Read from the dataset\n",
        "#Note: Empty argument is a defualt of 5\n",
        "header('What are the 5 Most listened/streamed tracks?')\n",
        "print (df.head()[['Track.Name', 'Genre']])\n",
        "header('What are the 3 Least listened/streamed tracks?')\n",
        "print (df.tail(3)[['Track.Name', 'Genre']])"
      ],
      "execution_count": 854,
      "outputs": [
        {
          "output_type": "stream",
          "text": [
            "--------------------------------------------------\n",
            "What are the 5 Most listened/streamed tracks?\n",
            "\n",
            "                        Track.Name           Genre\n",
            "0                         Se�orita    canadian pop\n",
            "1                            China  reggaeton flow\n",
            "2    boyfriend (with Social House)       dance pop\n",
            "3  Beautiful People (feat. Khalid)             pop\n",
            "4      Goodbyes (Feat. Young Thug)         dfw rap\n",
            "--------------------------------------------------\n",
            "What are the 3 Least listened/streamed tracks?\n",
            "\n",
            "                                       Track.Name    Genre\n",
            "47                                        Happier  brostep\n",
            "48                                  Call You Mine      edm\n",
            "49  Cross Me (feat. Chance the Rapper & PnB Rock)      pop\n"
          ],
          "name": "stdout"
        }
      ]
    },
    {
      "cell_type": "code",
      "metadata": {
        "id": "-1eqvQQIYmM4",
        "colab_type": "code",
        "colab": {
          "base_uri": "https://localhost:8080/",
          "height": 286
        },
        "outputId": "5e26e73e-de94-4e51-9fa2-ed1760790025"
      },
      "source": [
        "#Extra: This is how BI helps in better decision making\n",
        "header('What are the most listened/streamed Genres?')\n",
        "df.groupby('Genre')['Genre'].agg(['count']).sort_values(by='count', ascending=False).head(5)"
      ],
      "execution_count": 855,
      "outputs": [
        {
          "output_type": "stream",
          "text": [
            "--------------------------------------------------\n",
            "What are the most listened/streamed Genres?\n",
            "\n"
          ],
          "name": "stdout"
        },
        {
          "output_type": "execute_result",
          "data": {
            "text/html": [
              "<div>\n",
              "<style scoped>\n",
              "    .dataframe tbody tr th:only-of-type {\n",
              "        vertical-align: middle;\n",
              "    }\n",
              "\n",
              "    .dataframe tbody tr th {\n",
              "        vertical-align: top;\n",
              "    }\n",
              "\n",
              "    .dataframe thead th {\n",
              "        text-align: right;\n",
              "    }\n",
              "</style>\n",
              "<table border=\"1\" class=\"dataframe\">\n",
              "  <thead>\n",
              "    <tr style=\"text-align: right;\">\n",
              "      <th></th>\n",
              "      <th>count</th>\n",
              "    </tr>\n",
              "    <tr>\n",
              "      <th>Genre</th>\n",
              "      <th></th>\n",
              "    </tr>\n",
              "  </thead>\n",
              "  <tbody>\n",
              "    <tr>\n",
              "      <th>dance pop</th>\n",
              "      <td>8</td>\n",
              "    </tr>\n",
              "    <tr>\n",
              "      <th>pop</th>\n",
              "      <td>7</td>\n",
              "    </tr>\n",
              "    <tr>\n",
              "      <th>latin</th>\n",
              "      <td>5</td>\n",
              "    </tr>\n",
              "    <tr>\n",
              "      <th>edm</th>\n",
              "      <td>3</td>\n",
              "    </tr>\n",
              "    <tr>\n",
              "      <th>canadian hip hop</th>\n",
              "      <td>3</td>\n",
              "    </tr>\n",
              "  </tbody>\n",
              "</table>\n",
              "</div>"
            ],
            "text/plain": [
              "                  count\n",
              "Genre                  \n",
              "dance pop             8\n",
              "pop                   7\n",
              "latin                 5\n",
              "edm                   3\n",
              "canadian hip hop      3"
            ]
          },
          "metadata": {
            "tags": []
          },
          "execution_count": 855
        }
      ]
    },
    {
      "cell_type": "code",
      "metadata": {
        "id": "HmoohzxEpF5-",
        "colab_type": "code",
        "colab": {
          "base_uri": "https://localhost:8080/",
          "height": 567
        },
        "outputId": "6bb024a5-4c63-4101-d678-9474ede637ac"
      },
      "source": [
        "#Required: Produce Plots\n",
        "header('What are the most listened/streamed Genres?')\n",
        "figure(num=None, figsize=(12,6), dpi= 80, facecolor='w', edgecolor='k')\n",
        "df['Genre'].value_counts().plot(kind='bar')"
      ],
      "execution_count": 856,
      "outputs": [
        {
          "output_type": "stream",
          "text": [
            "--------------------------------------------------\n",
            "What are the most listened/streamed Genres?\n",
            "\n"
          ],
          "name": "stdout"
        },
        {
          "output_type": "execute_result",
          "data": {
            "text/plain": [
              "<matplotlib.axes._subplots.AxesSubplot at 0x7f30c28914a8>"
            ]
          },
          "metadata": {
            "tags": []
          },
          "execution_count": 856
        },
        {
          "output_type": "display_data",
          "data": {
            "image/png": "[encoded data removed]",
            "text/plain": [
              "<Figure size 960x480 with 1 Axes>"
            ]
          },
          "metadata": {
            "tags": []
          }
        }
      ]
    },
    {
      "cell_type": "code",
      "metadata": {
        "id": "Ak98CX-9YpA9",
        "colab_type": "code",
        "colab": {
          "base_uri": "https://localhost:8080/",
          "height": 441
        },
        "outputId": "b55f8e81-026f-4351-f403-906a15b262b1"
      },
      "source": [
        "#Extra: This is how BI helps in better decision making\n",
        "header('Who are the most listened/streamed Artists?')\n",
        "df.groupby('Artist.Name')['Artist.Name'].agg(['count']).sort_values(by='count', ascending=False).head(10)"
      ],
      "execution_count": 857,
      "outputs": [
        {
          "output_type": "stream",
          "text": [
            "--------------------------------------------------\n",
            "Who are the most listened/streamed Artists?\n",
            "\n"
          ],
          "name": "stdout"
        },
        {
          "output_type": "execute_result",
          "data": {
            "text/html": [
              "<div>\n",
              "<style scoped>\n",
              "    .dataframe tbody tr th:only-of-type {\n",
              "        vertical-align: middle;\n",
              "    }\n",
              "\n",
              "    .dataframe tbody tr th {\n",
              "        vertical-align: top;\n",
              "    }\n",
              "\n",
              "    .dataframe thead th {\n",
              "        text-align: right;\n",
              "    }\n",
              "</style>\n",
              "<table border=\"1\" class=\"dataframe\">\n",
              "  <thead>\n",
              "    <tr style=\"text-align: right;\">\n",
              "      <th></th>\n",
              "      <th>count</th>\n",
              "    </tr>\n",
              "    <tr>\n",
              "      <th>Artist.Name</th>\n",
              "      <th></th>\n",
              "    </tr>\n",
              "  </thead>\n",
              "  <tbody>\n",
              "    <tr>\n",
              "      <th>Ed Sheeran</th>\n",
              "      <td>4</td>\n",
              "    </tr>\n",
              "    <tr>\n",
              "      <th>Lil Nas X</th>\n",
              "      <td>2</td>\n",
              "    </tr>\n",
              "    <tr>\n",
              "      <th>Shawn Mendes</th>\n",
              "      <td>2</td>\n",
              "    </tr>\n",
              "    <tr>\n",
              "      <th>Marshmello</th>\n",
              "      <td>2</td>\n",
              "    </tr>\n",
              "    <tr>\n",
              "      <th>Post Malone</th>\n",
              "      <td>2</td>\n",
              "    </tr>\n",
              "    <tr>\n",
              "      <th>Sech</th>\n",
              "      <td>2</td>\n",
              "    </tr>\n",
              "    <tr>\n",
              "      <th>J Balvin</th>\n",
              "      <td>2</td>\n",
              "    </tr>\n",
              "    <tr>\n",
              "      <th>The Chainsmokers</th>\n",
              "      <td>2</td>\n",
              "    </tr>\n",
              "    <tr>\n",
              "      <th>Billie Eilish</th>\n",
              "      <td>2</td>\n",
              "    </tr>\n",
              "    <tr>\n",
              "      <th>Ariana Grande</th>\n",
              "      <td>2</td>\n",
              "    </tr>\n",
              "  </tbody>\n",
              "</table>\n",
              "</div>"
            ],
            "text/plain": [
              "                  count\n",
              "Artist.Name            \n",
              "Ed Sheeran            4\n",
              "Lil Nas X             2\n",
              "Shawn Mendes          2\n",
              "Marshmello            2\n",
              "Post Malone           2\n",
              "Sech                  2\n",
              "J Balvin              2\n",
              "The Chainsmokers      2\n",
              "Billie Eilish         2\n",
              "Ariana Grande         2"
            ]
          },
          "metadata": {
            "tags": []
          },
          "execution_count": 857
        }
      ]
    },
    {
      "cell_type": "code",
      "metadata": {
        "id": "6PsuQ_afXGIa",
        "colab_type": "code",
        "colab": {
          "base_uri": "https://localhost:8080/",
          "height": 170
        },
        "outputId": "2514447f-e1bb-43ef-a89f-ada4eec25d6b"
      },
      "source": [
        "#Required: Produce Descriptive Analysis (Mean and Mode)\n",
        "header('What is the most common level of loudness?')\n",
        "print(df['Loudness..dB..'].mode())\n",
        "header('What is the average length?')\n",
        "print(df['Length.'].mean())"
      ],
      "execution_count": 858,
      "outputs": [
        {
          "output_type": "stream",
          "text": [
            "--------------------------------------------------\n",
            "What is the most common level of loudness?\n",
            "\n",
            "0   -6\n",
            "dtype: int64\n",
            "--------------------------------------------------\n",
            "What is the average length?\n",
            "\n",
            "200.96\n"
          ],
          "name": "stdout"
        }
      ]
    },
    {
      "cell_type": "code",
      "metadata": {
        "id": "mhyVKtTNaPBt",
        "colab_type": "code",
        "colab": {
          "base_uri": "https://localhost:8080/",
          "height": 255
        },
        "outputId": "9b0138a2-2059-4f0e-9fa6-50e35a401995"
      },
      "source": [
        "#Extra: This is how BI helps in better decision making\n",
        "header('What is the best Length for the chosen Loudness?')\n",
        "df.groupby(by=['Loudness..dB..'])['Length.'].mean()"
      ],
      "execution_count": 859,
      "outputs": [
        {
          "output_type": "stream",
          "text": [
            "--------------------------------------------------\n",
            "What is the best Length for the chosen Loudness?\n",
            "\n"
          ],
          "name": "stdout"
        },
        {
          "output_type": "execute_result",
          "data": {
            "text/plain": [
              "Loudness..dB..\n",
              "-11    189.333333\n",
              "-9     198.000000\n",
              "-8     189.666667\n",
              "-7     203.166667\n",
              "-6     184.384615\n",
              "-5     205.250000\n",
              "-4     218.636364\n",
              "-3     193.333333\n",
              "-2     235.000000\n",
              "Name: Length., dtype: float64"
            ]
          },
          "metadata": {
            "tags": []
          },
          "execution_count": 859
        }
      ]
    },
    {
      "cell_type": "code",
      "metadata": {
        "id": "3wdFYht8c7xg",
        "colab_type": "code",
        "colab": {
          "base_uri": "https://localhost:8080/",
          "height": 495
        },
        "outputId": "594ebf86-876b-4049-b1b7-9b9b371051e8"
      },
      "source": [
        "#Required: Produce Plots\n",
        "header('Does Loudness have a relationship with Length?')\n",
        "figure(num=None, figsize=(12,6), dpi= 80, facecolor='w', edgecolor='k')\n",
        "grouped_df = df.groupby(by=['Loudness..dB..'], as_index=False).mean()\n",
        "grouped_df = grouped_df.sample(9)\n",
        "xs = grouped_df['Loudness..dB..']\n",
        "ys = grouped_df['Length.']\n",
        "plt.bar(xs, ys)\n",
        "plt.xlabel('Track Loudness')\n",
        "plt.ylabel('Track Length')\n",
        "plt.title ('Loudness and Length')\n",
        "plt.show()"
      ],
      "execution_count": 860,
      "outputs": [
        {
          "output_type": "stream",
          "text": [
            "--------------------------------------------------\n",
            "Does Loudness have a relationship with Length?\n",
            "\n"
          ],
          "name": "stdout"
        },
        {
          "output_type": "display_data",
          "data": {
            "image/png": "[encoded data removed]",
            "text/plain": [
              "<Figure size 960x480 with 1 Axes>"
            ]
          },
          "metadata": {
            "tags": []
          }
        }
      ]
    },
    {
      "cell_type": "code",
      "metadata": {
        "id": "XhQKGz0v1wzk",
        "colab_type": "code",
        "colab": {
          "base_uri": "https://localhost:8080/",
          "height": 340
        },
        "outputId": "1257f20d-a4f2-448f-a3d1-60a04222de15"
      },
      "source": [
        "#Extra: This is how BI helps in conducting better reasearch\n",
        "header('Filtering the most popular tracks for research:')\n",
        "print(df.sort_values(by='Popularity', ascending=False)[['Track.Name', 'Popularity']][df.Popularity>90])"
      ],
      "execution_count": 861,
      "outputs": [
        {
          "output_type": "stream",
          "text": [
            "--------------------------------------------------\n",
            "Filtering the most popular tracks for research:\n",
            "\n",
            "                                       Track.Name  Popularity\n",
            "9                                         bad guy          95\n",
            "4                     Goodbyes (Feat. Young Thug)          94\n",
            "10                                       Callaita          93\n",
            "14       Money In The Grave (Drake ft. Rick Ross)          92\n",
            "1                                           China          92\n",
            "6                                          Ransom          92\n",
            "36                                     Otro Trago          91\n",
            "21                                         Panini          91\n",
            "20                            Piece Of Your Heart          91\n",
            "19                                    Truth Hurts          91\n",
            "17  Sunflower - Spider-Man: Into the Spider-Verse          91\n",
            "28                                      Con Calma          91\n",
            "23                                Soltera - Remix          91\n"
          ],
          "name": "stdout"
        },
        {
          "output_type": "stream",
          "text": [
            "/usr/local/lib/python3.6/dist-packages/ipykernel_launcher.py:3: UserWarning: Boolean Series key will be reindexed to match DataFrame index.\n",
            "  This is separate from the ipykernel package so we can avoid doing imports until\n"
          ],
          "name": "stderr"
        }
      ]
    },
    {
      "cell_type": "code",
      "metadata": {
        "id": "_ObuQl1z6DQQ",
        "colab_type": "code",
        "colab": {
          "base_uri": "https://localhost:8080/",
          "height": 119
        },
        "outputId": "c4929612-8a89-446c-ee38-cb4878de39fe"
      },
      "source": [
        "#Extra: A value in the dataset has changed while working on the project\n",
        "header('The Popularity of Otro Trago has chaanged from 91 to 92 in the last few weeks')\n",
        "df.loc[36,['Popularity']]=92\n",
        "print(df.loc[36,['Track.Name','Popularity']])"
      ],
      "execution_count": 862,
      "outputs": [
        {
          "output_type": "stream",
          "text": [
            "--------------------------------------------------\n",
            "The Popularity of Otro Trago has chaanged from 91 to 92 in the last few weeks\n",
            "\n",
            "Track.Name    Otro Trago\n",
            "Popularity            92\n",
            "Name: 36, dtype: object\n"
          ],
          "name": "stdout"
        }
      ]
    },
    {
      "cell_type": "code",
      "metadata": {
        "id": "-r7xWTYIGIj4",
        "colab_type": "code",
        "colab": {
          "base_uri": "https://localhost:8080/",
          "height": 136
        },
        "outputId": "1ed93c8e-be71-4d0c-b69a-f8fcf3338344"
      },
      "source": [
        "#Extra: Data Preprocessing- Altering Dataset info\n",
        "header('New names for Daataaset Columns')\n",
        "df.rename(columns={'Valence.':'Valence'},inplace=True)\n",
        "df.rename(columns={'Length.':'Length'},inplace=True)\n",
        "df.rename(columns={'Acousticness..':'Acousticness'},inplace=True)\n",
        "df.rename(columns={'Speechiness.':'Speechiness'},inplace=True)\n",
        "print (df.columns)"
      ],
      "execution_count": 863,
      "outputs": [
        {
          "output_type": "stream",
          "text": [
            "--------------------------------------------------\n",
            "New names for Daataaset Columns\n",
            "\n",
            "Index(['Rank', 'Track.Name', 'Artist.Name', 'Genre', 'Beats.Per.Minute',\n",
            "       'Energy', 'Danceability', 'Loudness..dB..', 'Liveness', 'Valence',\n",
            "       'Length', 'Acousticness', 'Speechiness', 'Popularity'],\n",
            "      dtype='object')\n"
          ],
          "name": "stdout"
        }
      ]
    },
    {
      "cell_type": "code",
      "metadata": {
        "id": "vsVEzvyPZAuF",
        "colab_type": "code",
        "colab": {
          "base_uri": "https://localhost:8080/",
          "height": 346
        },
        "outputId": "d99a3ad4-aca4-4a95-aab5-a16f8de4a4d7"
      },
      "source": [
        "#Required: Produce Predictive Analysis (Linear Regression)\n",
        "header('Initial Plot')\n",
        "df.plot(x='Energy', y='Liveness', style='o')  \n",
        "plt.title('Energy vs Liveness')  \n",
        "plt.xlabel('Energy')  \n",
        "plt.ylabel('Liveness')  \n",
        "plt.show()"
      ],
      "execution_count": 864,
      "outputs": [
        {
          "output_type": "stream",
          "text": [
            "--------------------------------------------------\n",
            "Initial Plot\n",
            "\n"
          ],
          "name": "stdout"
        },
        {
          "output_type": "display_data",
          "data": {
            "image/png": "[encoded data removed]",
            "text/plain": [
              "<Figure size 432x288 with 1 Axes>"
            ]
          },
          "metadata": {
            "tags": [],
            "needs_background": "light"
          }
        }
      ]
    },
    {
      "cell_type": "code",
      "metadata": {
        "id": "yXxGhgiTi4E6",
        "colab_type": "code",
        "colab": {}
      },
      "source": [
        "#Note: Attributes are the independent variables, and in this case it is the Energy\n",
        "#Note: Labels are dependent variables, and in this case it is the Liveness\n",
        "X = df['Energy'].values.reshape(-1,1)\n",
        "y = df['Liveness'].values.reshape(-1,1)"
      ],
      "execution_count": 0,
      "outputs": []
    },
    {
      "cell_type": "code",
      "metadata": {
        "id": "pS5Bo26ri--r",
        "colab_type": "code",
        "colab": {}
      },
      "source": [
        "#Note: Setting test sample\n",
        "X_train, X_test, y_train, y_test = train_test_split(X, y, test_size=0.3, random_state=0)"
      ],
      "execution_count": 0,
      "outputs": []
    },
    {
      "cell_type": "code",
      "metadata": {
        "id": "26KsQDZyjXwA",
        "colab_type": "code",
        "colab": {
          "base_uri": "https://localhost:8080/",
          "height": 34
        },
        "outputId": "d1da9b66-1e1f-4167-f5e8-a2585067241e"
      },
      "source": [
        "#Note: Training the algorithm\n",
        "regressor = LinearRegression()  \n",
        "regressor.fit(X_train, y_train)"
      ],
      "execution_count": 867,
      "outputs": [
        {
          "output_type": "execute_result",
          "data": {
            "text/plain": [
              "LinearRegression(copy_X=True, fit_intercept=True, n_jobs=None, normalize=False)"
            ]
          },
          "metadata": {
            "tags": []
          },
          "execution_count": 867
        }
      ]
    },
    {
      "cell_type": "code",
      "metadata": {
        "id": "HE66sQnwjk38",
        "colab_type": "code",
        "colab": {
          "base_uri": "https://localhost:8080/",
          "height": 51
        },
        "outputId": "0fe24bd1-8f19-48b4-ce61-9f538edc52cc"
      },
      "source": [
        "#Note: To retrieve the intercept:\n",
        "print(regressor.intercept_)\n",
        "#Note: For retrieving the slope:\n",
        "print(regressor.coef_)"
      ],
      "execution_count": 868,
      "outputs": [
        {
          "output_type": "stream",
          "text": [
            "[3.55123945]\n",
            "[[0.17567744]]\n"
          ],
          "name": "stdout"
        }
      ]
    },
    {
      "cell_type": "code",
      "metadata": {
        "id": "eSx-arWMjvKa",
        "colab_type": "code",
        "colab": {}
      },
      "source": [
        "#Note: Predicting Livness based on Energy\n",
        "y_pred = regressor.predict(X_test)"
      ],
      "execution_count": 0,
      "outputs": []
    },
    {
      "cell_type": "code",
      "metadata": {
        "id": "Mfeo7f6MkATv",
        "colab_type": "code",
        "colab": {
          "base_uri": "https://localhost:8080/",
          "height": 514
        },
        "outputId": "9403ac16-16e1-4ba9-9984-3430402c2b10"
      },
      "source": [
        "#Note: Printing Data\n",
        "df = pd.DataFrame({'Actual': y_test.flatten(), 'Predicted': y_pred.flatten()})\n",
        "df"
      ],
      "execution_count": 870,
      "outputs": [
        {
          "output_type": "execute_result",
          "data": {
            "text/html": [
              "<div>\n",
              "<style scoped>\n",
              "    .dataframe tbody tr th:only-of-type {\n",
              "        vertical-align: middle;\n",
              "    }\n",
              "\n",
              "    .dataframe tbody tr th {\n",
              "        vertical-align: top;\n",
              "    }\n",
              "\n",
              "    .dataframe thead th {\n",
              "        text-align: right;\n",
              "    }\n",
              "</style>\n",
              "<table border=\"1\" class=\"dataframe\">\n",
              "  <thead>\n",
              "    <tr style=\"text-align: right;\">\n",
              "      <th></th>\n",
              "      <th>Actual</th>\n",
              "      <th>Predicted</th>\n",
              "    </tr>\n",
              "  </thead>\n",
              "  <tbody>\n",
              "    <tr>\n",
              "      <th>0</th>\n",
              "      <td>6</td>\n",
              "      <td>18.659499</td>\n",
              "    </tr>\n",
              "    <tr>\n",
              "      <th>1</th>\n",
              "      <td>15</td>\n",
              "      <td>16.024337</td>\n",
              "    </tr>\n",
              "    <tr>\n",
              "      <th>2</th>\n",
              "      <td>24</td>\n",
              "      <td>14.443241</td>\n",
              "    </tr>\n",
              "    <tr>\n",
              "      <th>3</th>\n",
              "      <td>7</td>\n",
              "      <td>15.497305</td>\n",
              "    </tr>\n",
              "    <tr>\n",
              "      <th>4</th>\n",
              "      <td>16</td>\n",
              "      <td>17.605434</td>\n",
              "    </tr>\n",
              "    <tr>\n",
              "      <th>5</th>\n",
              "      <td>19</td>\n",
              "      <td>11.632402</td>\n",
              "    </tr>\n",
              "    <tr>\n",
              "      <th>6</th>\n",
              "      <td>11</td>\n",
              "      <td>16.375692</td>\n",
              "    </tr>\n",
              "    <tr>\n",
              "      <th>7</th>\n",
              "      <td>9</td>\n",
              "      <td>9.172917</td>\n",
              "    </tr>\n",
              "    <tr>\n",
              "      <th>8</th>\n",
              "      <td>9</td>\n",
              "      <td>17.429757</td>\n",
              "    </tr>\n",
              "    <tr>\n",
              "      <th>9</th>\n",
              "      <td>11</td>\n",
              "      <td>14.970273</td>\n",
              "    </tr>\n",
              "    <tr>\n",
              "      <th>10</th>\n",
              "      <td>13</td>\n",
              "      <td>13.916208</td>\n",
              "    </tr>\n",
              "    <tr>\n",
              "      <th>11</th>\n",
              "      <td>14</td>\n",
              "      <td>16.200015</td>\n",
              "    </tr>\n",
              "    <tr>\n",
              "      <th>12</th>\n",
              "      <td>18</td>\n",
              "      <td>13.916208</td>\n",
              "    </tr>\n",
              "    <tr>\n",
              "      <th>13</th>\n",
              "      <td>32</td>\n",
              "      <td>19.010854</td>\n",
              "    </tr>\n",
              "    <tr>\n",
              "      <th>14</th>\n",
              "      <td>14</td>\n",
              "      <td>10.402659</td>\n",
              "    </tr>\n",
              "  </tbody>\n",
              "</table>\n",
              "</div>"
            ],
            "text/plain": [
              "    Actual  Predicted\n",
              "0        6  18.659499\n",
              "1       15  16.024337\n",
              "2       24  14.443241\n",
              "3        7  15.497305\n",
              "4       16  17.605434\n",
              "5       19  11.632402\n",
              "6       11  16.375692\n",
              "7        9   9.172917\n",
              "8        9  17.429757\n",
              "9       11  14.970273\n",
              "10      13  13.916208\n",
              "11      14  16.200015\n",
              "12      18  13.916208\n",
              "13      32  19.010854\n",
              "14      14  10.402659"
            ]
          },
          "metadata": {
            "tags": []
          },
          "execution_count": 870
        }
      ]
    },
    {
      "cell_type": "code",
      "metadata": {
        "id": "IsBdiljfkOGO",
        "colab_type": "code",
        "colab": {
          "base_uri": "https://localhost:8080/",
          "height": 594
        },
        "outputId": "1b25dce4-8b55-464f-a88e-4babe74818cc"
      },
      "source": [
        "#Note: Ploting Data\n",
        "df1 = df.head(100)\n",
        "df1.plot(kind='bar',figsize=(16,10))\n",
        "plt.grid(which='major', linestyle='-', linewidth='0.5', color='green')\n",
        "plt.grid(which='minor', linestyle=':', linewidth='0.5', color='black')\n",
        "plt.show()"
      ],
      "execution_count": 871,
      "outputs": [
        {
          "output_type": "display_data",
          "data": {
            "image/png": "[encoded data removed]",
            "text/plain": [
              "<Figure size 1152x720 with 1 Axes>"
            ]
          },
          "metadata": {
            "tags": [],
            "needs_background": "light"
          }
        }
      ]
    },
    {
      "cell_type": "code",
      "metadata": {
        "id": "uKEBkjYomhFo",
        "colab_type": "code",
        "colab": {
          "base_uri": "https://localhost:8080/",
          "height": 265
        },
        "outputId": "0a798f84-b6c8-4da2-a79f-4007d20f0861"
      },
      "source": [
        "#Note: Final Result\n",
        "plt.scatter(X_test, y_test,  color='gray')\n",
        "plt.plot(X_test, y_pred, color='red', linewidth=1)\n",
        "plt.show()"
      ],
      "execution_count": 872,
      "outputs": [
        {
          "output_type": "display_data",
          "data": {
            "image/png": "[encoded data removed]",
            "text/plain": [
              "<Figure size 432x288 with 1 Axes>"
            ]
          },
          "metadata": {
            "tags": [],
            "needs_background": "light"
          }
        }
      ]
    }
  ]
}