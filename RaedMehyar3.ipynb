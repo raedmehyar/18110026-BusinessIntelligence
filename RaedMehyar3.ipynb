{
  "nbformat": 4,
  "nbformat_minor": 0,
  "metadata": {
    "colab": {
      "name": "RaedMehyar3.ipynb",
      "provenance": [],
      "collapsed_sections": [],
      "include_colab_link": true
    },
    "kernelspec": {
      "name": "python3",
      "display_name": "Python 3"
    }
  },
  "cells": [
    {
      "cell_type": "markdown",
      "metadata": {
        "id": "view-in-github",
        "colab_type": "text"
      },
      "source": [
        "<a href=\"https://colab.research.google.com/github/raedmehyar/18110026-BusinessIntelligence/blob/master/RaedMehyar3.ipynb\" target=\"_parent\"><img src=\"https://colab.research.google.com/assets/colab-badge.svg\" alt=\"Open In Colab\"/></a>"
      ]
    },
    {
      "cell_type": "code",
      "metadata": {
        "id": "ta0Swq3b67Bl",
        "colab_type": "code",
        "colab": {}
      },
      "source": [
        "import matplotlib.pyplot as plt\n",
        "from matplotlib.pyplot import figure\n",
        "import numpy as np\n",
        "import pandas as pd"
      ],
      "execution_count": 0,
      "outputs": []
    },
    {
      "cell_type": "code",
      "metadata": {
        "id": "ffVx4I1V7FLJ",
        "colab_type": "code",
        "colab": {}
      },
      "source": [
        "df = pd.read_csv('supermarket_sales - Sheet1.csv')"
      ],
      "execution_count": 0,
      "outputs": []
    },
    {
      "cell_type": "code",
      "metadata": {
        "id": "tuxgA4Uz8537",
        "colab_type": "code",
        "colab": {}
      },
      "source": [
        "Results = df.groupby(by=['Gender'], as_index=False).sum()"
      ],
      "execution_count": 0,
      "outputs": []
    },
    {
      "cell_type": "code",
      "metadata": {
        "id": "s3LMg_ee9-Y-",
        "colab_type": "code",
        "outputId": "000da7be-ba33-4a76-caa6-e9ca96b57340",
        "colab": {
          "base_uri": "https://localhost:8080/",
          "height": 102
        }
      },
      "source": [
        "print(Results)"
      ],
      "execution_count": 6,
      "outputs": [
        {
          "output_type": "stream",
          "text": [
            "   Gender  Unit price  Quantity  ...  gross margin percentage  gross income  Rating\n",
            "0  Female    27687.24      2869  ...              2385.714286      7994.425  3489.2\n",
            "1    Male    27984.89      2641  ...              2376.190476      7384.944  3483.5\n",
            "\n",
            "[2 rows x 9 columns]\n"
          ],
          "name": "stdout"
        }
      ]
    },
    {
      "cell_type": "code",
      "metadata": {
        "id": "5ij-6omz-Z8x",
        "colab_type": "code",
        "outputId": "a69add92-2129-40ff-ad52-53a38278ca99",
        "colab": {
          "base_uri": "https://localhost:8080/",
          "height": 34
        }
      },
      "source": [
        "Type = Results['Gender']\n",
        "print(len(Type))"
      ],
      "execution_count": 7,
      "outputs": [
        {
          "output_type": "stream",
          "text": [
            "2\n"
          ],
          "name": "stdout"
        }
      ]
    },
    {
      "cell_type": "code",
      "metadata": {
        "id": "RPQyST7i-wP1",
        "colab_type": "code",
        "outputId": "08729c61-2170-4870-b181-fde319152e29",
        "colab": {
          "base_uri": "https://localhost:8080/",
          "height": 34
        }
      },
      "source": [
        "figure(num=None, figsize=(12,6), dpi= 80, facecolor='w', edgecolor='k')\n",
        "y_pos = np.arange(len(Type)) * 2"
      ],
      "execution_count": 8,
      "outputs": [
        {
          "output_type": "display_data",
          "data": {
            "text/plain": [
              "<Figure size 960x480 with 0 Axes>"
            ]
          },
          "metadata": {
            "tags": []
          }
        }
      ]
    },
    {
      "cell_type": "code",
      "metadata": {
        "id": "Dxolf63Y-z7K",
        "colab_type": "code",
        "colab": {}
      },
      "source": [
        "Number = Results['Quantity']"
      ],
      "execution_count": 0,
      "outputs": []
    },
    {
      "cell_type": "code",
      "metadata": {
        "id": "uF2CBAMk_Iv9",
        "colab_type": "code",
        "outputId": "36ab9899-7231-4b99-fa94-8253a30a8cde",
        "colab": {
          "base_uri": "https://localhost:8080/",
          "height": 298
        }
      },
      "source": [
        "plt.bar(y_pos+0.5, Number , align='center', width=1)\n",
        "plt.xticks(y_pos, Type)\n",
        "plt.ylabel('Number')\n",
        "plt.title('Sales/Gender')"
      ],
      "execution_count": 10,
      "outputs": [
        {
          "output_type": "execute_result",
          "data": {
            "text/plain": [
              "Text(0.5, 1.0, 'Sales/Gender')"
            ]
          },
          "metadata": {
            "tags": []
          },
          "execution_count": 10
        },
        {
          "output_type": "display_data",
          "data": {
            "image/png": "[encoded data removed]",
            "text/plain": [
              "<Figure size 432x288 with 1 Axes>"
            ]
          },
          "metadata": {
            "tags": []
          }
        }
      ]
    },
    {
      "cell_type": "code",
      "metadata": {
        "id": "AcXhVTy2AbFY",
        "colab_type": "code",
        "colab": {}
      },
      "source": [
        "BranchesResults = df.groupby(by=['Branch'], as_index=False).sum()"
      ],
      "execution_count": 0,
      "outputs": []
    },
    {
      "cell_type": "code",
      "metadata": {
        "id": "4EgSvMF8A7db",
        "colab_type": "code",
        "outputId": "94225c93-6928-4741-a1e6-335c118d4dbe",
        "colab": {
          "base_uri": "https://localhost:8080/",
          "height": 119
        }
      },
      "source": [
        "print(BranchesResults)"
      ],
      "execution_count": 12,
      "outputs": [
        {
          "output_type": "stream",
          "text": [
            "  Branch  Unit price  Quantity  ...  gross margin percentage  gross income  Rating\n",
            "0      A    18625.49      1859  ...              1619.047619     5057.1605  2389.2\n",
            "1      B    18478.88      1820  ...              1580.952381     5057.0320  2263.6\n",
            "2      C    18567.76      1831  ...              1561.904762     5265.1765  2319.9\n",
            "\n",
            "[3 rows x 9 columns]\n"
          ],
          "name": "stdout"
        }
      ]
    },
    {
      "cell_type": "code",
      "metadata": {
        "id": "No0GMVSnBMNC",
        "colab_type": "code",
        "outputId": "c22be690-8264-4225-99db-6c456a21d123",
        "colab": {
          "base_uri": "https://localhost:8080/",
          "height": 119
        }
      },
      "source": [
        "Sale = BranchesResults.head(5)\n",
        "print(Sale.head(5))"
      ],
      "execution_count": 13,
      "outputs": [
        {
          "output_type": "stream",
          "text": [
            "  Branch  Unit price  Quantity  ...  gross margin percentage  gross income  Rating\n",
            "0      A    18625.49      1859  ...              1619.047619     5057.1605  2389.2\n",
            "1      B    18478.88      1820  ...              1580.952381     5057.0320  2263.6\n",
            "2      C    18567.76      1831  ...              1561.904762     5265.1765  2319.9\n",
            "\n",
            "[3 rows x 9 columns]\n"
          ],
          "name": "stdout"
        }
      ]
    },
    {
      "cell_type": "code",
      "metadata": {
        "id": "GrrYivCeCDlE",
        "colab_type": "code",
        "colab": {}
      },
      "source": [
        "CityResults = df.groupby(by=['City'], as_index=False).sum()"
      ],
      "execution_count": 0,
      "outputs": []
    },
    {
      "cell_type": "code",
      "metadata": {
        "id": "9AzPvf6HFwPo",
        "colab_type": "code",
        "outputId": "c3c25d10-361f-4191-9e24-08ad31af8c01",
        "colab": {
          "base_uri": "https://localhost:8080/",
          "height": 119
        }
      },
      "source": [
        "print(CityResults)"
      ],
      "execution_count": 15,
      "outputs": [
        {
          "output_type": "stream",
          "text": [
            "        City  Unit price  ...  gross income  Rating\n",
            "0   Mandalay    18478.88  ...     5057.0320  2263.6\n",
            "1  Naypyitaw    18567.76  ...     5265.1765  2319.9\n",
            "2     Yangon    18625.49  ...     5057.1605  2389.2\n",
            "\n",
            "[3 rows x 9 columns]\n"
          ],
          "name": "stdout"
        }
      ]
    },
    {
      "cell_type": "code",
      "metadata": {
        "id": "RE-Eo9TJF1Hx",
        "colab_type": "code",
        "outputId": "caab0f31-b0e2-4695-f81f-0eec4a15dcbc",
        "colab": {
          "base_uri": "https://localhost:8080/",
          "height": 34
        }
      },
      "source": [
        "C = CityResults['City']\n",
        "print(len(C))"
      ],
      "execution_count": 16,
      "outputs": [
        {
          "output_type": "stream",
          "text": [
            "3\n"
          ],
          "name": "stdout"
        }
      ]
    },
    {
      "cell_type": "code",
      "metadata": {
        "id": "UhtwuLB2GBp7",
        "colab_type": "code",
        "outputId": "96a48c51-63e8-4b8f-c957-7aca438ee0f5",
        "colab": {
          "base_uri": "https://localhost:8080/",
          "height": 34
        }
      },
      "source": [
        "figure(num=None, figsize=(12,6), dpi= 80, facecolor='w', edgecolor='k')\n",
        "y_pos = np.arange(len(C)) * 2"
      ],
      "execution_count": 17,
      "outputs": [
        {
          "output_type": "display_data",
          "data": {
            "text/plain": [
              "<Figure size 960x480 with 0 Axes>"
            ]
          },
          "metadata": {
            "tags": []
          }
        }
      ]
    },
    {
      "cell_type": "code",
      "metadata": {
        "id": "1iiJaFlYGDe7",
        "colab_type": "code",
        "colab": {}
      },
      "source": [
        "T = CityResults['Total']"
      ],
      "execution_count": 0,
      "outputs": []
    },
    {
      "cell_type": "code",
      "metadata": {
        "id": "BYH8ShWPGNiL",
        "colab_type": "code",
        "outputId": "d69dd755-fab3-42f7-dd46-6325bd84c5fc",
        "colab": {
          "base_uri": "https://localhost:8080/",
          "height": 298
        }
      },
      "source": [
        "plt.bar(y_pos+0.5, T , align='center', width=1)\n",
        "plt.xticks(y_pos, C)\n",
        "plt.ylabel('T')\n",
        "plt.title('Sales/City')"
      ],
      "execution_count": 19,
      "outputs": [
        {
          "output_type": "execute_result",
          "data": {
            "text/plain": [
              "Text(0.5, 1.0, 'Sales/City')"
            ]
          },
          "metadata": {
            "tags": []
          },
          "execution_count": 19
        },
        {
          "output_type": "display_data",
          "data": {
            "image/png": "[encoded data removed]",
            "text/plain": [
              "<Figure size 432x288 with 1 Axes>"
            ]
          },
          "metadata": {
            "tags": []
          }
        }
      ]
    }
  ]
}