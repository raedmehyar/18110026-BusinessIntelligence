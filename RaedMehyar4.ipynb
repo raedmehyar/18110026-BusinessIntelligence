{
  "nbformat": 4,
  "nbformat_minor": 0,
  "metadata": {
    "colab": {
      "name": "RaedMehyar4.ipynb",
      "provenance": [],
      "collapsed_sections": [],
      "authorship_tag": "ABX9TyOpgMzsv9odUSw08lf9adhc",
      "include_colab_link": true
    },
    "kernelspec": {
      "name": "python3",
      "display_name": "Python 3"
    }
  },
  "cells": [
    {
      "cell_type": "markdown",
      "metadata": {
        "id": "view-in-github",
        "colab_type": "text"
      },
      "source": [
        "<a href=\"https://colab.research.google.com/github/raedmehyar/18110026-BusinessIntelligence/blob/master/RaedMehyar4.ipynb\" target=\"_parent\"><img src=\"https://colab.research.google.com/assets/colab-badge.svg\" alt=\"Open In Colab\"/></a>"
      ]
    },
    {
      "cell_type": "code",
      "metadata": {
        "id": "udeEIrC2WhVe",
        "colab_type": "code",
        "outputId": "4130b25b-84c6-43d7-c228-d94b0aee6c7c",
        "colab": {
          "base_uri": "https://localhost:8080/",
          "height": 170
        }
      },
      "source": [
        "import numpy  as np\n",
        "import pandas as pd\n",
        "\n",
        "def header (msg):\n",
        "  print ('-' * 50)\n",
        "  print ('[' + msg + ']\\n')\n",
        "\n",
        "header('Entering data manually into df')\n",
        "df1 = pd.DataFrame(\n",
        "    [['Raed', 19],['Carl', 20],['Chris', 12],['Joe', 22],['Adam', 18]],\n",
        "    index= [0,1,2,3,4],\n",
        "    columns= ['Name', 'Age']\n",
        ")\n",
        "print (df1)\n"
      ],
      "execution_count": 0,
      "outputs": [
        {
          "output_type": "stream",
          "text": [
            "--------------------------------------------------\n",
            "[Entering data manually into df]\n",
            "\n",
            "    Name  Age\n",
            "0   Raed   19\n",
            "1   Carl   20\n",
            "2  Chris   12\n",
            "3    Joe   22\n",
            "4   Adam   18\n"
          ],
          "name": "stdout"
        }
      ]
    },
    {
      "cell_type": "code",
      "metadata": {
        "id": "9HInRpnck99i",
        "colab_type": "code",
        "outputId": "e29eae00-7359-41f0-f084-b5de40565842",
        "colab": {
          "base_uri": "https://localhost:8080/",
          "height": 289
        }
      },
      "source": [
        "header('Raeding data from a text file')\n",
        "TheTest ='Test.txt'\n",
        "df = pd.read_csv(TheTest)\n",
        "print (df)"
      ],
      "execution_count": 0,
      "outputs": [
        {
          "output_type": "stream",
          "text": [
            "--------------------------------------------------\n",
            "[Raeding data from a text file]\n",
            "\n",
            "   month  avg_high  avg_low  record_high  record_low  avg_precipitation\n",
            "0    Jan        58       42           74          22               2.95\n",
            "1    Feb        61       45           78          26               3.02\n",
            "2    Mar        65       48           84          25               2.34\n",
            "3    Apr        67       50           92          28               1.02\n",
            "4    May        71       53           98          35               0.48\n",
            "5    Jun        75       56          107          41               0.11\n",
            "6    Jul        77       58          105          44               0.00\n",
            "7    Aug        77       59          102          43               0.03\n",
            "8    Sep        77       57          103          40               0.17\n",
            "9    Oct        73       54           96          34               0.81\n",
            "10   Nov        64       48           84          30               1.70\n",
            "11   Dec        58       42           73          21               2.56\n"
          ],
          "name": "stdout"
        }
      ]
    },
    {
      "cell_type": "code",
      "metadata": {
        "id": "jj8S-sd1ly8O",
        "colab_type": "code",
        "outputId": "9d612358-62e9-4463-ef44-ea7a31123b6e",
        "colab": {
          "base_uri": "https://localhost:8080/",
          "height": 170
        }
      },
      "source": [
        "header('Print Top 5// Empty argument is a defualt of 5')\n",
        "print (df.head())"
      ],
      "execution_count": 0,
      "outputs": [
        {
          "output_type": "stream",
          "text": [
            "--------------------------------------------------\n",
            "[Print Top 5// Empty argument is a defualt of 5]\n",
            "\n",
            "  month  avg_high  avg_low  record_high  record_low  avg_precipitation\n",
            "0   Jan        58       42           74          22               2.95\n",
            "1   Feb        61       45           78          26               3.02\n",
            "2   Mar        65       48           84          25               2.34\n",
            "3   Apr        67       50           92          28               1.02\n",
            "4   May        71       53           98          35               0.48\n"
          ],
          "name": "stdout"
        }
      ]
    },
    {
      "cell_type": "code",
      "metadata": {
        "id": "pC4OsfScmTs5",
        "colab_type": "code",
        "outputId": "ec6701f5-e60a-45cf-9978-c25d2aef4800",
        "colab": {
          "base_uri": "https://localhost:8080/",
          "height": 204
        }
      },
      "source": [
        "header('Print Bottom 7// Insert into argument as any number')\n",
        "print (df.tail(7))"
      ],
      "execution_count": 0,
      "outputs": [
        {
          "output_type": "stream",
          "text": [
            "--------------------------------------------------\n",
            "[Print Bottom 7// Insert into argument as any number]\n",
            "\n",
            "   month  avg_high  avg_low  record_high  record_low  avg_precipitation\n",
            "5    Jun        75       56          107          41               0.11\n",
            "6    Jul        77       58          105          44               0.00\n",
            "7    Aug        77       59          102          43               0.03\n",
            "8    Sep        77       57          103          40               0.17\n",
            "9    Oct        73       54           96          34               0.81\n",
            "10   Nov        64       48           84          30               1.70\n",
            "11   Dec        58       42           73          21               2.56\n"
          ],
          "name": "stdout"
        }
      ]
    },
    {
      "cell_type": "code",
      "metadata": {
        "id": "YeqsJoYmnC9C",
        "colab_type": "code",
        "outputId": "f20565c5-9792-4f13-cfa3-2d05ceedf121",
        "colab": {
          "base_uri": "https://localhost:8080/",
          "height": 136
        }
      },
      "source": [
        "header('Print from 3 to 6')\n",
        "print (df[2:5])"
      ],
      "execution_count": 0,
      "outputs": [
        {
          "output_type": "stream",
          "text": [
            "--------------------------------------------------\n",
            "[Print from 3 to 6]\n",
            "\n",
            "  month  avg_high  avg_low  record_high  record_low  avg_precipitation\n",
            "2   Mar        65       48           84          25               2.34\n",
            "3   Apr        67       50           92          28               1.02\n",
            "4   May        71       53           98          35               0.48\n"
          ],
          "name": "stdout"
        }
      ]
    },
    {
      "cell_type": "code",
      "metadata": {
        "id": "Abl-cFWmoB3j",
        "colab_type": "code",
        "outputId": "874f20d5-7291-4099-b182-c01c86c75eb2",
        "colab": {
          "base_uri": "https://localhost:8080/",
          "height": 153
        }
      },
      "source": [
        "header('Print Summer Months')\n",
        "print (df[4:8])"
      ],
      "execution_count": 0,
      "outputs": [
        {
          "output_type": "stream",
          "text": [
            "--------------------------------------------------\n",
            "[Print Summer Months]\n",
            "\n",
            "  month  avg_high  avg_low  record_high  record_low  avg_precipitation\n",
            "4   May        71       53           98          35               0.48\n",
            "5   Jun        75       56          107          41               0.11\n",
            "6   Jul        77       58          105          44               0.00\n",
            "7   Aug        77       59          102          43               0.03\n"
          ],
          "name": "stdout"
        }
      ]
    },
    {
      "cell_type": "code",
      "metadata": {
        "id": "6HpHY4yxmk5a",
        "colab_type": "code",
        "outputId": "6451d7b6-4dd5-4080-dcdd-ef897b106241",
        "colab": {
          "base_uri": "https://localhost:8080/",
          "height": 85
        }
      },
      "source": [
        "header('Print only index')\n",
        "print (df.index)"
      ],
      "execution_count": 0,
      "outputs": [
        {
          "output_type": "stream",
          "text": [
            "--------------------------------------------------\n",
            "[Print only index]\n",
            "\n",
            "RangeIndex(start=0, stop=12, step=1)\n"
          ],
          "name": "stdout"
        }
      ]
    },
    {
      "cell_type": "code",
      "metadata": {
        "id": "CnsTXHCXnDXc",
        "colab_type": "code",
        "outputId": "4dc464e9-1e3b-45e7-baf7-fa92693fad26",
        "colab": {
          "base_uri": "https://localhost:8080/",
          "height": 85
        }
      },
      "source": [
        "header('Print only index//data entry')\n",
        "print (df1.index)"
      ],
      "execution_count": 0,
      "outputs": [
        {
          "output_type": "stream",
          "text": [
            "--------------------------------------------------\n",
            "[Print only index//data entry]\n",
            "\n",
            "Int64Index([0, 1, 2, 3, 4], dtype='int64')\n"
          ],
          "name": "stdout"
        }
      ]
    },
    {
      "cell_type": "code",
      "metadata": {
        "id": "mKh6RgEVnQdc",
        "colab_type": "code",
        "outputId": "83725a07-b76c-41cc-ba89-fa5ad694e5ad",
        "colab": {
          "base_uri": "https://localhost:8080/",
          "height": 119
        }
      },
      "source": [
        "header('Print only columns')\n",
        "print (df.columns)"
      ],
      "execution_count": 0,
      "outputs": [
        {
          "output_type": "stream",
          "text": [
            "--------------------------------------------------\n",
            "[Print only columns]\n",
            "\n",
            "Index(['month', 'avg_high', 'avg_low', 'record_high', 'record_low',\n",
            "       'avg_precipitation'],\n",
            "      dtype='object')\n"
          ],
          "name": "stdout"
        }
      ]
    },
    {
      "cell_type": "code",
      "metadata": {
        "id": "20AE6x97nW5V",
        "colab_type": "code",
        "outputId": "e435a874-4409-4c24-9c8e-fcc8eaa9113d",
        "colab": {
          "base_uri": "https://localhost:8080/",
          "height": 85
        }
      },
      "source": [
        "header('Print only columns//data entry')\n",
        "print (df1.columns)"
      ],
      "execution_count": 0,
      "outputs": [
        {
          "output_type": "stream",
          "text": [
            "--------------------------------------------------\n",
            "[Print only columns//data entry]\n",
            "\n",
            "Index(['Name', 'Age'], dtype='object')\n"
          ],
          "name": "stdout"
        }
      ]
    },
    {
      "cell_type": "code",
      "metadata": {
        "id": "odWb6nyynayk",
        "colab_type": "code",
        "outputId": "89ee388d-2af0-4697-b8d9-82ede8fb038e",
        "colab": {
          "base_uri": "https://localhost:8080/",
          "height": 187
        }
      },
      "source": [
        "header('Print only datatypes')\n",
        "print (df.dtypes)"
      ],
      "execution_count": 0,
      "outputs": [
        {
          "output_type": "stream",
          "text": [
            "--------------------------------------------------\n",
            "[Print only datatypes]\n",
            "\n",
            "month                 object\n",
            "avg_high               int64\n",
            "avg_low                int64\n",
            "record_high            int64\n",
            "record_low             int64\n",
            "avg_precipitation    float64\n",
            "dtype: object\n"
          ],
          "name": "stdout"
        }
      ]
    },
    {
      "cell_type": "code",
      "metadata": {
        "id": "kvmkqP1hnyVn",
        "colab_type": "code",
        "outputId": "0b01f44f-1500-4646-9eeb-a438d9aba945",
        "colab": {
          "base_uri": "https://localhost:8080/",
          "height": 119
        }
      },
      "source": [
        "header('Print only datatypes// data entry')\n",
        "print (df1.dtypes)"
      ],
      "execution_count": 0,
      "outputs": [
        {
          "output_type": "stream",
          "text": [
            "--------------------------------------------------\n",
            "[Print only datatypes// data entry]\n",
            "\n",
            "Name    object\n",
            "Age      int64\n",
            "dtype: object\n"
          ],
          "name": "stdout"
        }
      ]
    },
    {
      "cell_type": "code",
      "metadata": {
        "id": "dwkciePIn5KV",
        "colab_type": "code",
        "outputId": "e707eaaf-b525-4e2e-94bd-f280b0ee80b8",
        "colab": {
          "base_uri": "https://localhost:8080/",
          "height": 272
        }
      },
      "source": [
        "header('Print only values')\n",
        "print (df.values)"
      ],
      "execution_count": 0,
      "outputs": [
        {
          "output_type": "stream",
          "text": [
            "--------------------------------------------------\n",
            "[Print only values]\n",
            "\n",
            "[['Jan' 58 42 74 22 2.95]\n",
            " ['Feb' 61 45 78 26 3.02]\n",
            " ['Mar' 65 48 84 25 2.34]\n",
            " ['Apr' 67 50 92 28 1.02]\n",
            " ['May' 71 53 98 35 0.48]\n",
            " ['Jun' 75 56 107 41 0.11]\n",
            " ['Jul' 77 58 105 44 0.0]\n",
            " ['Aug' 77 59 102 43 0.03]\n",
            " ['Sep' 77 57 103 40 0.17]\n",
            " ['Oct' 73 54 96 34 0.81]\n",
            " ['Nov' 64 48 84 30 1.7]\n",
            " ['Dec' 58 42 73 21 2.56]]\n"
          ],
          "name": "stdout"
        }
      ]
    },
    {
      "cell_type": "code",
      "metadata": {
        "id": "CDrfSbWRobdj",
        "colab_type": "code",
        "outputId": "f7a6c9b9-f6e5-41b4-c0da-27fa14508058",
        "colab": {
          "base_uri": "https://localhost:8080/",
          "height": 153
        }
      },
      "source": [
        "header('Print only values// data entry')\n",
        "print (df1.values)"
      ],
      "execution_count": 0,
      "outputs": [
        {
          "output_type": "stream",
          "text": [
            "--------------------------------------------------\n",
            "[Print only values// data entry]\n",
            "\n",
            "[['Raed' 19]\n",
            " ['Carl' 20]\n",
            " ['Chris' 12]\n",
            " ['Joe' 22]\n",
            " ['Adam' 18]]\n"
          ],
          "name": "stdout"
        }
      ]
    },
    {
      "cell_type": "code",
      "metadata": {
        "id": "J0bVgZHrohFc",
        "colab_type": "code",
        "outputId": "7e91b49f-0cb1-488d-bc16-c5c6b6eb979c",
        "colab": {
          "base_uri": "https://localhost:8080/",
          "height": 289
        }
      },
      "source": [
        "header('Data Describtion//Wrong way')\n",
        "print (df.describe)"
      ],
      "execution_count": 0,
      "outputs": [
        {
          "output_type": "stream",
          "text": [
            "--------------------------------------------------\n",
            "[Data Describtion//Wrong way]\n",
            "\n",
            "<bound method NDFrame.describe of    month  avg_high  avg_low  record_high  record_low  avg_precipitation\n",
            "0    Jan        58       42           74          22               2.95\n",
            "1    Feb        61       45           78          26               3.02\n",
            "2    Mar        65       48           84          25               2.34\n",
            "3    Apr        67       50           92          28               1.02\n",
            "4    May        71       53           98          35               0.48\n",
            "5    Jun        75       56          107          41               0.11\n",
            "6    Jul        77       58          105          44               0.00\n",
            "7    Aug        77       59          102          43               0.03\n",
            "8    Sep        77       57          103          40               0.17\n",
            "9    Oct        73       54           96          34               0.81\n",
            "10   Nov        64       48           84          30               1.70\n",
            "11   Dec        58       42           73          21               2.56>\n"
          ],
          "name": "stdout"
        }
      ]
    },
    {
      "cell_type": "code",
      "metadata": {
        "id": "M1qD3DWwkn08",
        "colab_type": "code",
        "outputId": "8a5afac0-fac8-4e1f-d0de-d3c013d6e8ab",
        "colab": {
          "base_uri": "https://localhost:8080/",
          "height": 221
        }
      },
      "source": [
        "header('Data Describtion//Right way')\n",
        "print (df.describe())"
      ],
      "execution_count": 0,
      "outputs": [
        {
          "output_type": "stream",
          "text": [
            "--------------------------------------------------\n",
            "[Data Describtion//Right way]\n",
            "\n",
            "        avg_high    avg_low  record_high  record_low  avg_precipitation\n",
            "count  12.000000  12.000000    12.000000   12.000000          12.000000\n",
            "mean   68.583333  51.000000    91.333333   32.416667           1.265833\n",
            "std     7.366488   6.060303    12.323911    8.240238           1.186396\n",
            "min    58.000000  42.000000    73.000000   21.000000           0.000000\n",
            "25%    63.250000  47.250000    82.500000   25.750000           0.155000\n",
            "50%    69.000000  51.500000    94.000000   32.000000           0.915000\n",
            "75%    75.500000  56.250000   102.250000   40.250000           2.395000\n",
            "max    77.000000  59.000000   107.000000   44.000000           3.020000\n"
          ],
          "name": "stdout"
        }
      ]
    },
    {
      "cell_type": "code",
      "metadata": {
        "id": "PVKY3v3Uk5Ss",
        "colab_type": "code",
        "outputId": "1e24d200-55bd-44ed-b043-2644261e52cf",
        "colab": {
          "base_uri": "https://localhost:8080/",
          "height": 289
        }
      },
      "source": [
        "header('Sort the records by column')\n",
        "print (df.sort_values('record_high', ascending=True))"
      ],
      "execution_count": 0,
      "outputs": [
        {
          "output_type": "stream",
          "text": [
            "--------------------------------------------------\n",
            "[Sort the records by column]\n",
            "\n",
            "   month  avg_high  avg_low  record_high  record_low  avg_precipitation\n",
            "11   Dec        58       42           73          21               2.56\n",
            "0    Jan        58       42           74          22               2.95\n",
            "1    Feb        61       45           78          26               3.02\n",
            "2    Mar        65       48           84          25               2.34\n",
            "10   Nov        64       48           84          30               1.70\n",
            "3    Apr        67       50           92          28               1.02\n",
            "9    Oct        73       54           96          34               0.81\n",
            "4    May        71       53           98          35               0.48\n",
            "7    Aug        77       59          102          43               0.03\n",
            "8    Sep        77       57          103          40               0.17\n",
            "6    Jul        77       58          105          44               0.00\n",
            "5    Jun        75       56          107          41               0.11\n"
          ],
          "name": "stdout"
        }
      ]
    },
    {
      "cell_type": "code",
      "metadata": {
        "id": "M6zsPrqHlpWQ",
        "colab_type": "code",
        "outputId": "c7a87b15-63ba-4ef3-ca43-a32700c2a14c",
        "colab": {
          "base_uri": "https://localhost:8080/",
          "height": 289
        }
      },
      "source": [
        "header('Sort the records by column')\n",
        "print (df.sort_values('record_high', ascending=False))"
      ],
      "execution_count": 0,
      "outputs": [
        {
          "output_type": "stream",
          "text": [
            "--------------------------------------------------\n",
            "[Sort the records by column]\n",
            "\n",
            "   month  avg_high  avg_low  record_high  record_low  avg_precipitation\n",
            "5    Jun        75       56          107          41               0.11\n",
            "6    Jul        77       58          105          44               0.00\n",
            "8    Sep        77       57          103          40               0.17\n",
            "7    Aug        77       59          102          43               0.03\n",
            "4    May        71       53           98          35               0.48\n",
            "9    Oct        73       54           96          34               0.81\n",
            "3    Apr        67       50           92          28               1.02\n",
            "2    Mar        65       48           84          25               2.34\n",
            "10   Nov        64       48           84          30               1.70\n",
            "1    Feb        61       45           78          26               3.02\n",
            "0    Jan        58       42           74          22               2.95\n",
            "11   Dec        58       42           73          21               2.56\n"
          ],
          "name": "stdout"
        }
      ]
    },
    {
      "cell_type": "code",
      "metadata": {
        "id": "vgENh-jZmHRA",
        "colab_type": "code",
        "outputId": "25598049-8bb5-4c5d-dcd4-6fe2d0ce7afd",
        "colab": {
          "base_uri": "https://localhost:8080/",
          "height": 731
        }
      },
      "source": [
        "header('Printing specific Column//multipul ways')\n",
        "print (df.month)\n",
        "print (df['avg_precipitation'])\n",
        "print (df[['avg_precipitation', 'month']])"
      ],
      "execution_count": 0,
      "outputs": [
        {
          "output_type": "stream",
          "text": [
            "--------------------------------------------------\n",
            "[Printing specific Column//multipul ways]\n",
            "\n",
            "0     Jan\n",
            "1     Feb\n",
            "2     Mar\n",
            "3     Apr\n",
            "4     May\n",
            "5     Jun\n",
            "6     Jul\n",
            "7     Aug\n",
            "8     Sep\n",
            "9     Oct\n",
            "10    Nov\n",
            "11    Dec\n",
            "Name: month, dtype: object\n",
            "0     2.95\n",
            "1     3.02\n",
            "2     2.34\n",
            "3     1.02\n",
            "4     0.48\n",
            "5     0.11\n",
            "6     0.00\n",
            "7     0.03\n",
            "8     0.17\n",
            "9     0.81\n",
            "10    1.70\n",
            "11    2.56\n",
            "Name: avg_precipitation, dtype: float64\n",
            "    avg_precipitation month\n",
            "0                2.95   Jan\n",
            "1                3.02   Feb\n",
            "2                2.34   Mar\n",
            "3                1.02   Apr\n",
            "4                0.48   May\n",
            "5                0.11   Jun\n",
            "6                0.00   Jul\n",
            "7                0.03   Aug\n",
            "8                0.17   Sep\n",
            "9                0.81   Oct\n",
            "10               1.70   Nov\n",
            "11               2.56   Dec\n"
          ],
          "name": "stdout"
        }
      ]
    },
    {
      "cell_type": "code",
      "metadata": {
        "id": "FmTLr8Cmm6Kc",
        "colab_type": "code",
        "outputId": "28a90a5e-2aa5-4dd6-ee27-46f4ba125d3f",
        "colab": {
          "base_uri": "https://localhost:8080/",
          "height": 289
        }
      },
      "source": [
        "header('Printing specific Column for all Records')\n",
        "print(df.loc[:,['month','avg_low','avg_high']])"
      ],
      "execution_count": 0,
      "outputs": [
        {
          "output_type": "stream",
          "text": [
            "--------------------------------------------------\n",
            "[Printing specific Column for all Records]\n",
            "\n",
            "   month  avg_low  avg_high\n",
            "0    Jan       42        58\n",
            "1    Feb       45        61\n",
            "2    Mar       48        65\n",
            "3    Apr       50        67\n",
            "4    May       53        71\n",
            "5    Jun       56        75\n",
            "6    Jul       58        77\n",
            "7    Aug       59        77\n",
            "8    Sep       57        77\n",
            "9    Oct       54        73\n",
            "10   Nov       48        64\n",
            "11   Dec       42        58\n"
          ],
          "name": "stdout"
        }
      ]
    },
    {
      "cell_type": "code",
      "metadata": {
        "id": "tvzOtDea7tgL",
        "colab_type": "code",
        "outputId": "cb2126d2-6b65-48d8-faac-34ad17dc8bcb",
        "colab": {
          "base_uri": "https://localhost:8080/",
          "height": 170
        }
      },
      "source": [
        "header('Printing specific Column for specific Records')\n",
        "print(df.loc[0:4,['month','avg_low','avg_high']])"
      ],
      "execution_count": 0,
      "outputs": [
        {
          "output_type": "stream",
          "text": [
            "--------------------------------------------------\n",
            "[Printing specific Column for specific Records]\n",
            "\n",
            "  month  avg_low  avg_high\n",
            "0   Jan       42        58\n",
            "1   Feb       45        61\n",
            "2   Mar       48        65\n",
            "3   Apr       50        67\n",
            "4   May       53        71\n"
          ],
          "name": "stdout"
        }
      ]
    },
    {
      "cell_type": "code",
      "metadata": {
        "id": "cH6eAiEj8AqC",
        "colab_type": "code",
        "outputId": "025cc744-d571-4814-a544-ded149a35b83",
        "colab": {
          "base_uri": "https://localhost:8080/",
          "height": 136
        }
      },
      "source": [
        "header('Printing specific Column for specific Record!')\n",
        "print(df.loc[5,['month','avg_low','avg_high']])"
      ],
      "execution_count": 0,
      "outputs": [
        {
          "output_type": "stream",
          "text": [
            "--------------------------------------------------\n",
            "[Printing specific Column for specific Record!]\n",
            "\n",
            "month       Jun\n",
            "avg_low      56\n",
            "avg_high     75\n",
            "Name: 5, dtype: object\n"
          ],
          "name": "stdout"
        }
      ]
    },
    {
      "cell_type": "code",
      "metadata": {
        "id": "Dj0uUjY48Pqy",
        "colab_type": "code",
        "outputId": "d0fecbf1-40e2-4e07-eae5-aae7de11db6e",
        "colab": {
          "base_uri": "https://localhost:8080/",
          "height": 170
        }
      },
      "source": [
        "header('Printing a sequence of Columns for specific Records')\n",
        "print(df.iloc[6:11,[0,1,2]])"
      ],
      "execution_count": 0,
      "outputs": [
        {
          "output_type": "stream",
          "text": [
            "--------------------------------------------------\n",
            "[Printing a sequence of Columns for specific Records]\n",
            "\n",
            "   month  avg_high  avg_low\n",
            "6    Jul        77       58\n",
            "7    Aug        77       59\n",
            "8    Sep        77       57\n",
            "9    Oct        73       54\n",
            "10   Nov        64       48\n"
          ],
          "name": "stdout"
        }
      ]
    },
    {
      "cell_type": "code",
      "metadata": {
        "id": "zvOg4esN_U0m",
        "colab_type": "code",
        "outputId": "098dc930-0f17-460f-d9e4-87a569a04bf3",
        "colab": {
          "base_uri": "https://localhost:8080/",
          "height": 255
        }
      },
      "source": [
        "header('Filtering')\n",
        "print(df[df.avg_high>60])"
      ],
      "execution_count": 0,
      "outputs": [
        {
          "output_type": "stream",
          "text": [
            "--------------------------------------------------\n",
            "[Filtering]\n",
            "\n",
            "   month  avg_high  avg_low  record_high  record_low  avg_precipitation\n",
            "1    Feb        61       45           78          26               3.02\n",
            "2    Mar        65       48           84          25               2.34\n",
            "3    Apr        67       50           92          28               1.02\n",
            "4    May        71       53           98          35               0.48\n",
            "5    Jun        75       56          107          41               0.11\n",
            "6    Jul        77       58          105          44               0.00\n",
            "7    Aug        77       59          102          43               0.03\n",
            "8    Sep        77       57          103          40               0.17\n",
            "9    Oct        73       54           96          34               0.81\n",
            "10   Nov        64       48           84          30               1.70\n"
          ],
          "name": "stdout"
        }
      ]
    },
    {
      "cell_type": "code",
      "metadata": {
        "id": "zgxHsfFP_01K",
        "colab_type": "code",
        "outputId": "7ff8df4f-1e48-4d73-94ed-dc14f85c8ad3",
        "colab": {
          "base_uri": "https://localhost:8080/",
          "height": 85
        }
      },
      "source": [
        "print(df[df['month'].isin(['Jun','Jul','Sep'])])"
      ],
      "execution_count": 0,
      "outputs": [
        {
          "output_type": "stream",
          "text": [
            "  month  avg_high  avg_low  record_high  record_low  avg_precipitation\n",
            "5   Jun        75       56          107          41               0.11\n",
            "6   Jul        77       58          105          44               0.00\n",
            "8   Sep        77       57          103          40               0.17\n"
          ],
          "name": "stdout"
        }
      ]
    },
    {
      "cell_type": "code",
      "metadata": {
        "id": "re96A0yOB43I",
        "colab_type": "code",
        "outputId": "a8adb1f0-6490-4d0d-eb27-836b2adc0bd5",
        "colab": {
          "base_uri": "https://localhost:8080/",
          "height": 68
        }
      },
      "source": [
        "header('Value changing')\n",
        "df.loc[9,['avg_precipitation']]=10.2"
      ],
      "execution_count": 0,
      "outputs": [
        {
          "output_type": "stream",
          "text": [
            "--------------------------------------------------\n",
            "[Value changing]\n",
            "\n"
          ],
          "name": "stdout"
        }
      ]
    },
    {
      "cell_type": "code",
      "metadata": {
        "id": "VvwNgyuYCTOv",
        "colab_type": "code",
        "outputId": "91af2da5-b4d8-467f-da5c-2b138b87cd61",
        "colab": {
          "base_uri": "https://localhost:8080/",
          "height": 153
        }
      },
      "source": [
        "header('Value changed')\n",
        "print(df.iloc[6:10])"
      ],
      "execution_count": 0,
      "outputs": [
        {
          "output_type": "stream",
          "text": [
            "--------------------------------------------------\n",
            "[Value changed]\n",
            "\n",
            "  month  avg_high  avg_low  record_high  record_low  avg_precipitation\n",
            "6   Jul        77       58          105          44               0.00\n",
            "7   Aug        77       59          102          43               0.03\n",
            "8   Sep        77       57          103          40               0.17\n",
            "9   Oct        73       54           96          34              10.20\n"
          ],
          "name": "stdout"
        }
      ]
    },
    {
      "cell_type": "code",
      "metadata": {
        "id": "o_fiv3TzDJkE",
        "colab_type": "code",
        "outputId": "f714db74-78be-4357-934b-11b0c409fa9d",
        "colab": {
          "base_uri": "https://localhost:8080/",
          "height": 68
        }
      },
      "source": [
        "header('Exeption Handling')\n",
        "#when importing data and being afraid that a field misses info or has broken info\n",
        "df.loc[9,['avg_precipitation']]= np.nan"
      ],
      "execution_count": 0,
      "outputs": [
        {
          "output_type": "stream",
          "text": [
            "--------------------------------------------------\n",
            "[Exeption Handling]\n",
            "\n"
          ],
          "name": "stdout"
        }
      ]
    },
    {
      "cell_type": "code",
      "metadata": {
        "id": "GroTT1cVC1No",
        "colab_type": "code",
        "outputId": "dfdea26d-8b93-45aa-b1df-8cd597d83fb4",
        "colab": {
          "base_uri": "https://localhost:8080/",
          "height": 153
        }
      },
      "source": [
        "header('Value changed')\n",
        "print(df.iloc[6:10])"
      ],
      "execution_count": 0,
      "outputs": [
        {
          "output_type": "stream",
          "text": [
            "--------------------------------------------------\n",
            "[Value changed]\n",
            "\n",
            "  month  avg_high  avg_low  record_high  record_low  avg_precipitation\n",
            "6   Jul        77       58          105          44               0.00\n",
            "7   Aug        77       59          102          43               0.03\n",
            "8   Sep        77       57          103          40               0.17\n",
            "9   Oct        73       54           96          34                NaN\n"
          ],
          "name": "stdout"
        }
      ]
    },
    {
      "cell_type": "code",
      "metadata": {
        "id": "rJK2pncrDm9Z",
        "colab_type": "code",
        "outputId": "ef9d6f29-9873-4a91-ea43-57fc06081ed0",
        "colab": {
          "base_uri": "https://localhost:8080/",
          "height": 68
        }
      },
      "source": [
        "header('Value changing')\n",
        "df.loc[6:9,['avg_high']]= 77.2"
      ],
      "execution_count": 0,
      "outputs": [
        {
          "output_type": "stream",
          "text": [
            "--------------------------------------------------\n",
            "[Value changing]\n",
            "\n"
          ],
          "name": "stdout"
        }
      ]
    },
    {
      "cell_type": "code",
      "metadata": {
        "id": "3Yb-AiR7EDtG",
        "colab_type": "code",
        "outputId": "b9d63465-0107-45cb-85f9-16f59ab70fb4",
        "colab": {
          "base_uri": "https://localhost:8080/",
          "height": 153
        }
      },
      "source": [
        "header('Value changed')\n",
        "print(df.loc[6:9,['avg_high']])"
      ],
      "execution_count": 0,
      "outputs": [
        {
          "output_type": "stream",
          "text": [
            "--------------------------------------------------\n",
            "[Value changed]\n",
            "\n",
            "   avg_high\n",
            "6      77.2\n",
            "7      77.2\n",
            "8      77.2\n",
            "9      77.2\n"
          ],
          "name": "stdout"
        }
      ]
    },
    {
      "cell_type": "code",
      "metadata": {
        "id": "ly9jHM0lEaWh",
        "colab_type": "code",
        "outputId": "1c04dfd6-d1d6-455f-9b6b-437120d255df",
        "colab": {
          "base_uri": "https://localhost:8080/",
          "height": 238
        }
      },
      "source": [
        "df['#']= (df.avg_high-df.avg_low)\n",
        "print(df)"
      ],
      "execution_count": 0,
      "outputs": [
        {
          "output_type": "stream",
          "text": [
            "   month  avg_high  avg_low  record_high  record_low  avg_precipitation     #\n",
            "0    Jan      58.0       42           74          22               2.95  16.0\n",
            "1    Feb      61.0       45           78          26               3.02  16.0\n",
            "2    Mar      65.0       48           84          25               2.34  17.0\n",
            "3    Apr      67.0       50           92          28               1.02  17.0\n",
            "4    May      71.0       53           98          35               0.48  18.0\n",
            "5    Jun      75.0       56          107          41               0.11  19.0\n",
            "6    Jul      77.2       58          105          44               0.00  19.2\n",
            "7    Aug      77.2       59          102          43               0.03  18.2\n",
            "8    Sep      77.2       57          103          40               0.17  20.2\n",
            "9    Oct      77.2       54           96          34                NaN  23.2\n",
            "10   Nov      64.0       48           84          30               1.70  16.0\n",
            "11   Dec      58.0       42           73          21               2.56  16.0\n"
          ],
          "name": "stdout"
        }
      ]
    },
    {
      "cell_type": "code",
      "metadata": {
        "id": "Io0X6pWBFmNq",
        "colab_type": "code",
        "outputId": "6070e52e-f502-4cde-a795-4ccbc178f455",
        "colab": {
          "base_uri": "https://localhost:8080/",
          "height": 153
        }
      },
      "source": [
        "df.rename(columns={'#':'Difference'},inplace=True)\n",
        "print(df.head())"
      ],
      "execution_count": 0,
      "outputs": [
        {
          "output_type": "stream",
          "text": [
            "  month  avg_high  avg_low  ...  record_low  avg_precipitation  Difference\n",
            "0   Jan      58.0       42  ...          22               2.95        16.0\n",
            "1   Feb      61.0       45  ...          26               3.02        16.0\n",
            "2   Mar      65.0       48  ...          25               2.34        17.0\n",
            "3   Apr      67.0       50  ...          28               1.02        17.0\n",
            "4   May      71.0       53  ...          35               0.48        18.0\n",
            "\n",
            "[5 rows x 7 columns]\n"
          ],
          "name": "stdout"
        }
      ]
    },
    {
      "cell_type": "code",
      "metadata": {
        "id": "BeMh5HpVlNLe",
        "colab_type": "code",
        "outputId": "01232a22-ad69-4201-f23e-522fb8fab46f",
        "colab": {
          "base_uri": "https://localhost:8080/",
          "height": 238
        }
      },
      "source": [
        "df.columns=['Month','AHigh','ALow','RHigh','RLow','Precipitation','Diff']\n",
        "print(df)"
      ],
      "execution_count": 0,
      "outputs": [
        {
          "output_type": "stream",
          "text": [
            "   Month  AHigh  ALow  RHigh  RLow  Precipitation  Diff\n",
            "0    Jan   58.0    42     74    22           2.95  16.0\n",
            "1    Feb   61.0    45     78    26           3.02  16.0\n",
            "2    Mar   65.0    48     84    25           2.34  17.0\n",
            "3    Apr   67.0    50     92    28           1.02  17.0\n",
            "4    May   71.0    53     98    35           0.48  18.0\n",
            "5    Jun   75.0    56    107    41           0.11  19.0\n",
            "6    Jul   77.2    58    105    44           0.00  19.2\n",
            "7    Aug   77.2    59    102    43           0.03  18.2\n",
            "8    Sep   77.2    57    103    40           0.17  20.2\n",
            "9    Oct   77.2    54     96    34            NaN  23.2\n",
            "10   Nov   64.0    48     84    30           1.70  16.0\n",
            "11   Dec   58.0    42     73    21           2.56  16.0\n"
          ],
          "name": "stdout"
        }
      ]
    },
    {
      "cell_type": "code",
      "metadata": {
        "id": "1U0FyQyxmKNk",
        "colab_type": "code",
        "colab": {}
      },
      "source": [
        "df.to_csv('Success.csv')"
      ],
      "execution_count": 0,
      "outputs": []
    }
  ]
}