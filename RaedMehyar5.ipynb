{
  "nbformat": 4,
  "nbformat_minor": 0,
  "metadata": {
    "colab": {
      "name": "RaedMehyar5.ipynb",
      "provenance": []
    },
    "kernelspec": {
      "name": "python3",
      "display_name": "Python 3"
    }
  },
  "cells": [
    {
      "cell_type": "code",
      "metadata": {
        "id": "8EKT5TdQ6B5w",
        "colab_type": "code",
        "colab": {}
      },
      "source": [
        "import numpy as np\n",
        "import pandas as pd\n",
        "import matplotlib.pyplot as plt\n",
        "from matplotlib.pyplot import figure"
      ],
      "execution_count": 0,
      "outputs": []
    },
    {
      "cell_type": "code",
      "metadata": {
        "id": "YTTQC9ZG_JOf",
        "colab_type": "code",
        "colab": {}
      },
      "source": [
        "df = pd.read_csv('COVID19_open_line_list.csv')"
      ],
      "execution_count": 0,
      "outputs": []
    },
    {
      "cell_type": "code",
      "metadata": {
        "id": "Aa-H1AThF0hI",
        "colab_type": "code",
        "outputId": "063567f1-9229-4a35-f00d-4f7bb8848ee3",
        "colab": {
          "base_uri": "https://localhost:8080/",
          "height": 129
        }
      },
      "source": [
        "all_cases_with_outcome = df[(df['outcome']!=''] | df(df['outcome']=='discharged')\n",
        "outcome_df_grouped==df.groupby(by=['sex'], as_index=False).count()\n",
        "print(outcome_df_grouped)"
      ],
      "execution_count": 3,
      "outputs": [
        {
          "output_type": "error",
          "ename": "SyntaxError",
          "evalue": "ignored",
          "traceback": [
            "\u001b[0;36m  File \u001b[0;32m\"<ipython-input-3-608a42659c1a>\"\u001b[0;36m, line \u001b[0;32m1\u001b[0m\n\u001b[0;31m    all_cases_with_outcome = df[(df['outcome']!=''] | df(df['outcome']=='discharged')\u001b[0m\n\u001b[0m                                                  ^\u001b[0m\n\u001b[0;31mSyntaxError\u001b[0m\u001b[0;31m:\u001b[0m invalid syntax\n"
          ]
        }
      ]
    },
    {
      "cell_type": "code",
      "metadata": {
        "id": "WsWPH0yj_4c5",
        "colab_type": "code",
        "outputId": "4a21124f-e4a9-43c4-bfc6-9881cddfe411",
        "colab": {
          "base_uri": "https://localhost:8080/",
          "height": 248
        }
      },
      "source": [
        "sizes = [551,703]\n",
        "explode = (0,0.1)\n",
        "fig1, ax1= plt.subplots()\n",
        "ax1.pie(sizes, explode=explode, labels=['Males','Females'])\n",
        "plt.show()"
      ],
      "execution_count": 4,
      "outputs": [
        {
          "output_type": "display_data",
          "data": {
            "image/png": "[encoded data removed]",
            "text/plain": [
              "<Figure size 432x288 with 1 Axes>"
            ]
          },
          "metadata": {
            "tags": []
          }
        }
      ]
    },
    {
      "cell_type": "code",
      "metadata": {
        "id": "YBIotwpWE7kp",
        "colab_type": "code",
        "colab": {}
      },
      "source": [
        ""
      ],
      "execution_count": 0,
      "outputs": []
    }
  ]
}